{
  "nbformat": 4,
  "nbformat_minor": 0,
  "metadata": {
    "colab": {
      "provenance": []
    },
    "kernelspec": {
      "name": "python3",
      "display_name": "Python 3"
    },
    "language_info": {
      "name": "python"
    }
  },
  "cells": [
    {
      "cell_type": "markdown",
      "source": [],
      "metadata": {
        "id": "ZdeOK3M446Es"
      }
    },
    {
      "cell_type": "code",
      "source": [
        "import os\n",
        "os.environ['KAGGLE_CONFIG_DIR'] = \"drive/MyDrive/Colab Notebooks/\"\n",
        "!kaggle datasets download -d jessicali9530/celeba-dataset\n",
        "\n",
        "from google.colab import drive\n",
        "drive.mount('content/drive')\n",
        "\n",
        "\n",
        "import os\n",
        "import numpy as np\n",
        "\n",
        "Paths = os.listdir('img_align_celeba/img_align_celeba')\n",
        "\n",
        "images = []\n",
        "\n",
        "for path in Paths[0:50000]:\n",
        "  digitization = PIL.Image.open('img_align_celeba/img_align_celeba/' + path).crop((20,30,160,180)).convert('L').resize((64,64))\n",
        "  images.append( np.array(digitization) )\n",
        "\n",
        "images = np.array(images)\n",
        "images = np.divide(images, 255)\n",
        "\n",
        "images = images.reshape( 50000,64,64,1 )\n",
        "print(images.shape)"
      ],
      "metadata": {
        "id": "vzhUplqq1i5J"
      },
      "execution_count": null,
      "outputs": []
    },
    {
      "cell_type": "code",
      "source": [
        "import tensorflow as tf\n",
        "\n",
        "discriminator = tf.keras.models.Sequential([\n",
        "  tf.keras.layers.Conv2D(64, (3,3), strides=(2, 2), padding='same', input_shape=[64,64,1]),\n",
        "  tf.keras.layers.LeakyReLU(alpha=0.2),\n",
        "  tf.keras.layers.Dropout(0.4),\n",
        "  tf.keras.layers.Conv2D(64, (3,3), strides=(2, 2), padding='same'),\n",
        "  tf.keras.layers.LeakyReLU(alpha=0.2),\n",
        "  tf.keras.layers.Dropout(0.4),\n",
        "  tf.keras.layers.Flatten(),\n",
        "  tf.keras.layers.Dense(1, activation='sigmoid')\n",
        "])\n",
        "\n",
        "generator = tf.keras.models.Sequential([\n",
        "  tf.keras.layers.Dense(4 * 4 * 256, input_shape=(100,) ),\n",
        "  tf.keras.layers.Reshape((4, 4, 256)),\n",
        "  tf.keras.layers.Conv2DTranspose(256, 3, strides=2, padding='same'),\n",
        "  tf.keras.layers.LeakyReLU(alpha=0.2),\n",
        "  tf.keras.layers.BatchNormalization(),\n",
        "  tf.keras.layers.Conv2DTranspose(128, 3, strides=2, padding='same'),\n",
        "  tf.keras.layers.LeakyReLU(alpha=0.2),\n",
        "  tf.keras.layers.BatchNormalization(),\n",
        "  tf.keras.layers.Conv2DTranspose(64, 3, strides=2, padding='same'),\n",
        "  tf.keras.layers.LeakyReLU(alpha=0.2),\n",
        "  tf.keras.layers.BatchNormalization(),\n",
        "  tf.keras.layers.Conv2DTranspose(1, 3, strides=2, padding='same', activation='sigmoid')\n",
        "])\n",
        "\n",
        "GAN = tf.keras.models.Sequential([generator, discriminator])\n",
        "\n",
        "discriminator.compile(\n",
        "    optimizer='adam',\n",
        "    loss='binary_crossentropy'\n",
        ")\n",
        "discriminator.trainable = False\n",
        "\n",
        "GAN.compile(optimizer='adam', loss='binary_crossentropy')"
      ],
      "metadata": {
        "id": "6qU4Py231xcn"
      },
      "execution_count": null,
      "outputs": []
    },
    {
      "cell_type": "code",
      "source": [
        "x_data = images\n",
        "\n",
        "for i in range(50000//128):\n",
        "\n",
        "  #discriminator\n",
        "  Random_number = np.random.uniform(-1,1,size=(128,100))\n",
        "  fake = generator.predict(Random_number)\n",
        "  real = x_data[0:128]\n",
        "\n",
        "  fakeY = np.ones(shape=(128,1))\n",
        "  realY = np.zeroes(shape=(128,1))\n",
        "\n",
        "  loss1 = discriminator.train_on_batch(fake, fakeY)\n",
        "  loss2 = discriminator.train_on_batch(real, 진realY짜사진Y)\n",
        "\n",
        "\n",
        "  #generator\n",
        "  noise = np.random.uniform(-1,1,size=(128,100))\n",
        "  Y = np.ones(shape=(128,1))\n",
        "  loss3 = GAN.train_on_batch(noise, Y)\n",
        "\n",
        "\n",
        "  Random_number = np.random.uniform(-1,1,size=(10,100))\n",
        "predict = generator.predict(Random_number)\n",
        "\n",
        "for i in range(10):\n",
        "  plt.subplot(2, 5, i+1)\n",
        "  plt.imshow(predict[i].reshape(64,64), cmap='gray')\n",
        "  plt.axis('off')\n",
        "plt.tight_layout()\n",
        "plt.show()"
      ],
      "metadata": {
        "id": "iYOdDJVj3OxU"
      },
      "execution_count": null,
      "outputs": []
    }
  ]
}